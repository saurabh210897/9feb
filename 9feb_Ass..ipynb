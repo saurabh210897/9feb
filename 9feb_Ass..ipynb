{
 "cells": [
  {
   "cell_type": "code",
   "execution_count": 30,
   "id": "853fcd50-9188-45e8-8e05-e58f4918aabf",
   "metadata": {},
   "outputs": [],
   "source": [
    "#Q1, Create a vehicle class with an init method having instance variables as name_of_vehicle, max_speed and average_of_vehicle."
   ]
  },
  {
   "cell_type": "code",
   "execution_count": 8,
   "id": "34d97533-0ad6-44af-ae61-435bfb68fae2",
   "metadata": {},
   "outputs": [],
   "source": [
    "class Vehicle:\n",
    "    def __init__(self, name_of_vehicle, max_speed, average_speed):\n",
    "        self.name_of_vehicle = name_of_vehicle\n",
    "        self.max_speed = max_speed\n",
    "        self.average_speed = average_speed\n",
    "    def return_car_detail(self):\n",
    "        return self.name_of_vehicle , self.max_speed , self.average_speed"
   ]
  },
  {
   "cell_type": "code",
   "execution_count": 5,
   "id": "feadf469-10fb-42df-abbd-3cb218211053",
   "metadata": {},
   "outputs": [],
   "source": [
    "car = Vehicle(\"Toyota Camry\", 120, 80)"
   ]
  },
  {
   "cell_type": "code",
   "execution_count": 9,
   "id": "0a14b92b-acac-42a7-8827-3014407ebd76",
   "metadata": {},
   "outputs": [
    {
     "data": {
      "text/plain": [
       "'Toyota Camry'"
      ]
     },
     "execution_count": 9,
     "metadata": {},
     "output_type": "execute_result"
    }
   ],
   "source": [
    "car.name_of_vehicle"
   ]
  },
  {
   "cell_type": "code",
   "execution_count": 10,
   "id": "1471ce5f-33e3-48a5-806e-e0c631657afc",
   "metadata": {},
   "outputs": [
    {
     "data": {
      "text/plain": [
       "120"
      ]
     },
     "execution_count": 10,
     "metadata": {},
     "output_type": "execute_result"
    }
   ],
   "source": [
    "car.max_speed"
   ]
  },
  {
   "cell_type": "code",
   "execution_count": 11,
   "id": "bd20842c-105c-4223-8b4d-085b4370fc9f",
   "metadata": {},
   "outputs": [
    {
     "data": {
      "text/plain": [
       "80"
      ]
     },
     "execution_count": 11,
     "metadata": {},
     "output_type": "execute_result"
    }
   ],
   "source": [
    "car.average_speed"
   ]
  },
  {
   "cell_type": "code",
   "execution_count": 16,
   "id": "8c1207a1-d096-4287-b0d5-5a3a8d3329b2",
   "metadata": {},
   "outputs": [],
   "source": [
    "#Q3. What is multiple inheritance? Write a python code to demonstrate multiple inheritance."
   ]
  },
  {
   "cell_type": "code",
   "execution_count": 19,
   "id": "110e3c73-b8d1-488a-8791-d7f3502ff1ad",
   "metadata": {},
   "outputs": [
    {
     "name": "stdout",
     "output_type": "stream",
     "text": [
      "Welcome to A\n",
      "Welcome to B\n",
      "Welcome to c\n"
     ]
    }
   ],
   "source": [
    "# Multiple inheritance is a feature in object-oriented programming languages where a class can inherit from multiple parent classes. \n",
    "# In other words, a class can have multiple superclasses, \n",
    "# and it can inherit attributes and methods from all of them.\n",
    "\n",
    "\n",
    "class A:\n",
    "    def displayA(self):\n",
    "        print(\"Welcome to A\")\n",
    "        \n",
    "class B:\n",
    "    def displayB(self):\n",
    "        print(\"Welcome to B\")\n",
    "        \n",
    "class C(A,B):\n",
    "    def displayC(self):\n",
    "        print(\"Welcome to c\")\n",
    "\n",
    "obj = C()\n",
    "obj.displayA()\n",
    "obj.displayB()\n",
    "obj.displayC()"
   ]
  },
  {
   "cell_type": "code",
   "execution_count": 20,
   "id": "c44b307b-bae8-4a6c-b692-520e1d2fb73c",
   "metadata": {},
   "outputs": [],
   "source": [
    "# Q4. What are getter and setter in python? Create a class and create a getter and a setter method in this class."
   ]
  },
  {
   "cell_type": "code",
   "execution_count": 26,
   "id": "2081a452-b999-4098-a7c0-51696c2e439b",
   "metadata": {},
   "outputs": [
    {
     "name": "stdout",
     "output_type": "stream",
     "text": [
      "Testing\n"
     ]
    }
   ],
   "source": [
    "# Getter and Setter are methods used in object-oriented programming languages like Python to access and modify the values of \n",
    "# class attributes or instance variables.\n",
    "\n",
    "# In Python, getters and setters are implemented using the property() function, which allows the user to define a method that will be executed when \n",
    "# a user tries to get or set the value of an attribute.\n",
    "\n",
    "# A getter is a method that gets the value of a class attribute or instance variable. It is used to access the value of a private attribute of \n",
    "# a class or instance. In Python, you can define a getter using the property() function.\n",
    "\n",
    "class student:\n",
    "    def __init__(self):\n",
    "        self.__name = \"\"\n",
    "    def getname(self):\n",
    "        return self.__name\n",
    "    def setname(self, name):\n",
    "        self.__name = name\n",
    "\n",
    "obj = student()\n",
    "obj.setname(\"Testing\")\n",
    "name = obj.getname()\n",
    "print(name)"
   ]
  },
  {
   "cell_type": "code",
   "execution_count": 27,
   "id": "3dfb8d94-19d8-47bd-a500-8cba39fcccd6",
   "metadata": {},
   "outputs": [],
   "source": [
    "#Q5.What is method overriding in python? Write a python code to demonstrate method overriding."
   ]
  },
  {
   "cell_type": "code",
   "execution_count": 29,
   "id": "579b95fb-f3c0-46ae-a00f-d1114d08afd3",
   "metadata": {},
   "outputs": [
    {
     "name": "stdout",
     "output_type": "stream",
     "text": [
      "Welcome to IIP\n"
     ]
    }
   ],
   "source": [
    "# Method overriding is a concept in object-oriented programming (OOP) where a subclass provides its own implementation of\n",
    "# a method that is already defined in its superclass. When a method in a subclass has the same name, and the same number and types of parameters, \n",
    "# as a method in its superclass, then the method in the subclass overrides the method in the superclass.\n",
    "\n",
    "# In Python, method overriding is a natural part of inheritance. When a subclass inherits from a superclass, \n",
    "# it can override any method from the superclass that it wants to modify. To override a method in Python, simply define \n",
    "# a new method in the subclass with the same name as the method in the superclass.\n",
    "\n",
    "class WS:\n",
    "    def displayinfo(self):\n",
    "        print(\"Welcome to WS\")\n",
    "class IIP(WS):\n",
    "    def displayinfo(self):\n",
    "        print(\"Welcome to IIP\")\n",
    "        \n",
    "obj = IIP()\n",
    "obj.displayinfo()"
   ]
  },
  {
   "cell_type": "code",
   "execution_count": null,
   "id": "e3af0cf4-7e88-4545-9b43-b6c0dd60934c",
   "metadata": {},
   "outputs": [],
   "source": []
  }
 ],
 "metadata": {
  "kernelspec": {
   "display_name": "Python 3 (ipykernel)",
   "language": "python",
   "name": "python3"
  },
  "language_info": {
   "codemirror_mode": {
    "name": "ipython",
    "version": 3
   },
   "file_extension": ".py",
   "mimetype": "text/x-python",
   "name": "python",
   "nbconvert_exporter": "python",
   "pygments_lexer": "ipython3",
   "version": "3.10.8"
  }
 },
 "nbformat": 4,
 "nbformat_minor": 5
}
